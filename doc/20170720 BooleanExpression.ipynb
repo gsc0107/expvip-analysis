{
 "cells": [
  {
   "cell_type": "code",
   "execution_count": 1,
   "metadata": {
    "collapsed": false
   },
   "outputs": [
    {
     "name": "stderr",
     "output_type": "stream",
     "text": [
      "Loading required package: gsubfn\n",
      "Loading required package: proto\n",
      "Loading required package: RSQLite\n",
      "Loading required package: spam\n",
      "Loading required package: grid\n",
      "Spam version 1.4-0 (2016-08-29) is loaded.\n",
      "Type 'help( Spam)' or 'demo( spam)' for a short introduction \n",
      "and overview of this package.\n",
      "Help for individual functions is also obtained by adding the\n",
      "suffix '.spam' to the function name, e.g. 'help( chol.spam)'.\n",
      "\n",
      "Attaching package: ‘spam’\n",
      "\n",
      "The following objects are masked from ‘package:base’:\n",
      "\n",
      "    backsolve, forwardsolve\n",
      "\n",
      "Loading required package: maps\n",
      "--\n",
      "Consider donating at: http://ggtern.com\n",
      "Even small amounts (say $10-50) are very much appreciated!\n",
      "Remember to cite, run citation(package = 'ggtern') for further info.\n",
      "--\n",
      "\n",
      "Attaching package: ‘ggtern’\n",
      "\n",
      "The following objects are masked from ‘package:gridExtra’:\n",
      "\n",
      "    arrangeGrob, grid.arrange\n",
      "\n",
      "The following objects are masked from ‘package:ggplot2’:\n",
      "\n",
      "    %+%, aes, annotate, calc_element, ggplot, ggplot_build,\n",
      "    ggplot_gtable, ggplotGrob, ggsave, layer_data, theme, theme_bw,\n",
      "    theme_classic, theme_dark, theme_gray, theme_light, theme_linedraw,\n",
      "    theme_minimal, theme_void\n",
      "\n",
      "Loading required package: magic\n",
      "Loading required package: abind\n",
      "Loading required package: BiasedUrn\n",
      "Loading required package: geneLenDataBase\n",
      "\n"
     ]
    }
   ],
   "source": [
    "library(ggplot2)\n",
    "library(reshape2)\n",
    "library(sqldf)\n",
    "library(fields)\n",
    "library(gridExtra)\n",
    "library(ggtern)\n",
    "library(clue)\n",
    "library(geometry)\n",
    "library(gtable)\n",
    "library(goseq)"
   ]
  },
  {
   "cell_type": "code",
   "execution_count": 2,
   "metadata": {
    "collapsed": true
   },
   "outputs": [],
   "source": [
    "folder<-\"/Users/ramirezr/Dropbox/JIC/expVIPMetadatas/RefSeq1.0/TablesForExploration\"\n",
    "\n",
    "loadGeneInformation<-function(dir=\"../TablesForExploration\"){\n",
    "    path<-paste0(dir,\"/CanonicalTranscript.rds\")\n",
    "    canonicalTranscripts<-readRDS(path)\n",
    "    canonicalTranscripts$intron_length<- canonicalTranscripts$mrna_length -  canonicalTranscripts$exon_length\n",
    "    canonicalTranscripts$chr_group <- substr(canonicalTranscripts$Chr,4,4)\n",
    "    canonicalTranscripts$genome    <- substr(canonicalTranscripts$Chr,5,5)\n",
    "    \n",
    "    path<-paste0(dir, \"/MeanTpms.rds\")\n",
    "    meanTpms <- readRDS(path)\n",
    "    expressed_genes<-unique(meanTpms$gene)\n",
    "    canonicalTranscripts<-canonicalTranscripts[canonicalTranscripts$Gene %in% expressed_genes, ]\n",
    "    \n",
    "    \n",
    "    path<-paste0(dir,\"/TriadMovement.rds\")\n",
    "    triadMovement<-readRDS(path)\n",
    "    \n",
    "    path<-paste0(dir,\"/Triads.rds\")\n",
    "    triads<-readRDS(path)\n",
    "    \n",
    "    path<-paste0(dir,\"/universe_table.csv\")\n",
    "    gene_universe<-read.csv(path)\n",
    "    \n",
    "    path<-paste0(dir, \"/OntologiesForGenes.rds\")\n",
    "    ontologies<-readRDS(path)\n",
    "    \n",
    "    path<-paste0(dir, \"/id_names_merged.txt\")\n",
    "    id_names <- read.csv(path, header=F, sep = \"\\t\")\n",
    "    \n",
    "    path<-paste0(dir, \"/WGCNA_table.csv\")\n",
    "    WGCNA <-  read.csv(path)\n",
    "    \n",
    "    list(canonicalTranscripts=canonicalTranscripts, \n",
    "         meanTpms=meanTpms,\n",
    "         triads=triads, \n",
    "         triadMovement=triadMovement,\n",
    "         gene_universe=gene_universe, \n",
    "         ontologies=ontologies,\n",
    "         id_names=id_names,\n",
    "         WGCNA=WGCNA\n",
    "        )\n",
    "}\n",
    "geneInformation<-loadGeneInformation()"
   ]
  },
  {
   "cell_type": "code",
   "execution_count": 4,
   "metadata": {
    "collapsed": false
   },
   "outputs": [
    {
     "data": {
      "text/html": [
       "<table>\n",
       "<thead><tr><th scope=col>value</th><th scope=col>factor</th><th scope=col>gene</th><th scope=col>samples</th><th scope=col>subset</th><th scope=col>min_mean_tpm</th></tr></thead>\n",
       "<tbody>\n",
       "\t<tr><td> 35.3429709         </td><td>all                 </td><td>TraesCS1A01G000100  </td><td>128                 </td><td>spike               </td><td>0.5                 </td></tr>\n",
       "\t<tr><td>778.7933277         </td><td>all                 </td><td>TraesCS1A01G000100LC</td><td>128                 </td><td>spike               </td><td>0.5                 </td></tr>\n",
       "\t<tr><td>150.7084593         </td><td>all                 </td><td>TraesCS1A01G000200  </td><td>128                 </td><td>spike               </td><td>0.5                 </td></tr>\n",
       "\t<tr><td>  0.2557844         </td><td>all                 </td><td>TraesCS1A01G000200LC</td><td>128                 </td><td>spike               </td><td>0.5                 </td></tr>\n",
       "\t<tr><td> 18.7230705         </td><td>all                 </td><td>TraesCS1A01G000300  </td><td>128                 </td><td>spike               </td><td>0.5                 </td></tr>\n",
       "\t<tr><td>  3.2775778         </td><td>all                 </td><td>TraesCS1A01G000300LC</td><td>128                 </td><td>spike               </td><td>0.5                 </td></tr>\n",
       "</tbody>\n",
       "</table>\n"
      ],
      "text/latex": [
       "\\begin{tabular}{r|llllll}\n",
       " value & factor & gene & samples & subset & min\\_mean\\_tpm\\\\\n",
       "\\hline\n",
       "\t  35.3429709          & all                  & TraesCS1A01G000100   & 128                  & spike                & 0.5                 \\\\\n",
       "\t 778.7933277          & all                  & TraesCS1A01G000100LC & 128                  & spike                & 0.5                 \\\\\n",
       "\t 150.7084593          & all                  & TraesCS1A01G000200   & 128                  & spike                & 0.5                 \\\\\n",
       "\t   0.2557844          & all                  & TraesCS1A01G000200LC & 128                  & spike                & 0.5                 \\\\\n",
       "\t  18.7230705          & all                  & TraesCS1A01G000300   & 128                  & spike                & 0.5                 \\\\\n",
       "\t   3.2775778          & all                  & TraesCS1A01G000300LC & 128                  & spike                & 0.5                 \\\\\n",
       "\\end{tabular}\n"
      ],
      "text/markdown": [
       "\n",
       "value | factor | gene | samples | subset | min_mean_tpm | \n",
       "|---|---|---|---|---|---|\n",
       "|  35.3429709          | all                  | TraesCS1A01G000100   | 128                  | spike                | 0.5                  | \n",
       "| 778.7933277          | all                  | TraesCS1A01G000100LC | 128                  | spike                | 0.5                  | \n",
       "| 150.7084593          | all                  | TraesCS1A01G000200   | 128                  | spike                | 0.5                  | \n",
       "|   0.2557844          | all                  | TraesCS1A01G000200LC | 128                  | spike                | 0.5                  | \n",
       "|  18.7230705          | all                  | TraesCS1A01G000300   | 128                  | spike                | 0.5                  | \n",
       "|   3.2775778          | all                  | TraesCS1A01G000300LC | 128                  | spike                | 0.5                  | \n",
       "\n",
       "\n"
      ],
      "text/plain": [
       "  value       factor gene                 samples subset min_mean_tpm\n",
       "1  35.3429709 all    TraesCS1A01G000100   128     spike  0.5         \n",
       "2 778.7933277 all    TraesCS1A01G000100LC 128     spike  0.5         \n",
       "3 150.7084593 all    TraesCS1A01G000200   128     spike  0.5         \n",
       "4   0.2557844 all    TraesCS1A01G000200LC 128     spike  0.5         \n",
       "5  18.7230705 all    TraesCS1A01G000300   128     spike  0.5         \n",
       "6   3.2775778 all    TraesCS1A01G000300LC 128     spike  0.5         "
      ]
     },
     "metadata": {},
     "output_type": "display_data"
    }
   ],
   "source": [
    "head(geneInformation$meanTpms)"
   ]
  },
  {
   "cell_type": "code",
   "execution_count": 19,
   "metadata": {
    "collapsed": true
   },
   "outputs": [],
   "source": [
    "geneInformation$meanTpms$expressed<-ifelse(geneInformation$meanTpms$value > 0.5,1,0)"
   ]
  },
  {
   "cell_type": "code",
   "execution_count": 20,
   "metadata": {
    "collapsed": false
   },
   "outputs": [
    {
     "data": {
      "text/html": [
       "<table>\n",
       "<thead><tr><th scope=col>value</th><th scope=col>factor</th><th scope=col>gene</th><th scope=col>samples</th><th scope=col>subset</th><th scope=col>min_mean_tpm</th><th scope=col>expressed</th></tr></thead>\n",
       "<tbody>\n",
       "\t<tr><td> 35.3429709         </td><td>all                 </td><td>TraesCS1A01G000100  </td><td>128                 </td><td>spike               </td><td>0.5                 </td><td>1                   </td></tr>\n",
       "\t<tr><td>778.7933277         </td><td>all                 </td><td>TraesCS1A01G000100LC</td><td>128                 </td><td>spike               </td><td>0.5                 </td><td>1                   </td></tr>\n",
       "\t<tr><td>150.7084593         </td><td>all                 </td><td>TraesCS1A01G000200  </td><td>128                 </td><td>spike               </td><td>0.5                 </td><td>1                   </td></tr>\n",
       "\t<tr><td>  0.2557844         </td><td>all                 </td><td>TraesCS1A01G000200LC</td><td>128                 </td><td>spike               </td><td>0.5                 </td><td>0                   </td></tr>\n",
       "\t<tr><td> 18.7230705         </td><td>all                 </td><td>TraesCS1A01G000300  </td><td>128                 </td><td>spike               </td><td>0.5                 </td><td>1                   </td></tr>\n",
       "\t<tr><td>  3.2775778         </td><td>all                 </td><td>TraesCS1A01G000300LC</td><td>128                 </td><td>spike               </td><td>0.5                 </td><td>1                   </td></tr>\n",
       "</tbody>\n",
       "</table>\n"
      ],
      "text/latex": [
       "\\begin{tabular}{r|lllllll}\n",
       " value & factor & gene & samples & subset & min\\_mean\\_tpm & expressed\\\\\n",
       "\\hline\n",
       "\t  35.3429709          & all                  & TraesCS1A01G000100   & 128                  & spike                & 0.5                  & 1                   \\\\\n",
       "\t 778.7933277          & all                  & TraesCS1A01G000100LC & 128                  & spike                & 0.5                  & 1                   \\\\\n",
       "\t 150.7084593          & all                  & TraesCS1A01G000200   & 128                  & spike                & 0.5                  & 1                   \\\\\n",
       "\t   0.2557844          & all                  & TraesCS1A01G000200LC & 128                  & spike                & 0.5                  & 0                   \\\\\n",
       "\t  18.7230705          & all                  & TraesCS1A01G000300   & 128                  & spike                & 0.5                  & 1                   \\\\\n",
       "\t   3.2775778          & all                  & TraesCS1A01G000300LC & 128                  & spike                & 0.5                  & 1                   \\\\\n",
       "\\end{tabular}\n"
      ],
      "text/markdown": [
       "\n",
       "value | factor | gene | samples | subset | min_mean_tpm | expressed | \n",
       "|---|---|---|---|---|---|\n",
       "|  35.3429709          | all                  | TraesCS1A01G000100   | 128                  | spike                | 0.5                  | 1                    | \n",
       "| 778.7933277          | all                  | TraesCS1A01G000100LC | 128                  | spike                | 0.5                  | 1                    | \n",
       "| 150.7084593          | all                  | TraesCS1A01G000200   | 128                  | spike                | 0.5                  | 1                    | \n",
       "|   0.2557844          | all                  | TraesCS1A01G000200LC | 128                  | spike                | 0.5                  | 0                    | \n",
       "|  18.7230705          | all                  | TraesCS1A01G000300   | 128                  | spike                | 0.5                  | 1                    | \n",
       "|   3.2775778          | all                  | TraesCS1A01G000300LC | 128                  | spike                | 0.5                  | 1                    | \n",
       "\n",
       "\n"
      ],
      "text/plain": [
       "  value       factor gene                 samples subset min_mean_tpm expressed\n",
       "1  35.3429709 all    TraesCS1A01G000100   128     spike  0.5          1        \n",
       "2 778.7933277 all    TraesCS1A01G000100LC 128     spike  0.5          1        \n",
       "3 150.7084593 all    TraesCS1A01G000200   128     spike  0.5          1        \n",
       "4   0.2557844 all    TraesCS1A01G000200LC 128     spike  0.5          0        \n",
       "5  18.7230705 all    TraesCS1A01G000300   128     spike  0.5          1        \n",
       "6   3.2775778 all    TraesCS1A01G000300LC 128     spike  0.5          1        "
      ]
     },
     "metadata": {},
     "output_type": "display_data"
    }
   ],
   "source": [
    "head(geneInformation$meanTpms)"
   ]
  },
  {
   "cell_type": "code",
   "execution_count": 8,
   "metadata": {
    "collapsed": false
   },
   "outputs": [],
   "source": [
    "subsets<-unique(geneInformation$meanTpms$subset)"
   ]
  },
  {
   "cell_type": "code",
   "execution_count": 25,
   "metadata": {
    "collapsed": false
   },
   "outputs": [
    {
     "name": "stdout",
     "output_type": "stream",
     "text": [
      "[1] \"spike\"\n",
      "[1] \"root\"\n",
      "[1] \"leaf\"\n",
      "[1] \"grain\"\n",
      "[1] \"disease\"\n",
      "[1] \"abiotic\"\n",
      "[1] \"CS_NB_inc_stress\"\n",
      "[1] \"CS_no_stress\"\n",
      "[1] \"850_samples\"\n",
      "[1] \"Development\"\n"
     ]
    }
   ],
   "source": [
    "for(s in subsets){\n",
    "    print(s)\n",
    "    filename<-paste0(\"./Tables/ExpressedInTissue/ExpressedMinTPM05_\",s,\".txt\")\n",
    "    test<-geneInformation$meanTpms[geneInformation$meanTpms$subset==s,]\n",
    "    casted<-dcast(test, gene ~ factor, value.var=\"expressed\")\n",
    "    write.table(casted, file=filename, row.names=F, sep=\"\\t\")\n",
    "}"
   ]
  },
  {
   "cell_type": "code",
   "execution_count": 15,
   "metadata": {
    "collapsed": false
   },
   "outputs": [
    {
     "data": {
      "text/html": [
       "<table>\n",
       "<thead><tr><th></th><th scope=col>value</th><th scope=col>factor</th><th scope=col>gene</th><th scope=col>samples</th><th scope=col>subset</th><th scope=col>min_mean_tpm</th><th scope=col>expressed</th></tr></thead>\n",
       "<tbody>\n",
       "\t<tr><th scope=row>39089536</th><td>  9.7596096         </td><td>all                 </td><td>TraesCS1A01G000100  </td><td>209                 </td><td>Development         </td><td>0.5                 </td><td> TRUE               </td></tr>\n",
       "\t<tr><th scope=row>39089537</th><td>726.5982970         </td><td>all                 </td><td>TraesCS1A01G000100LC</td><td>209                 </td><td>Development         </td><td>0.5                 </td><td> TRUE               </td></tr>\n",
       "\t<tr><th scope=row>39089538</th><td> 93.3424544         </td><td>all                 </td><td>TraesCS1A01G000200  </td><td>209                 </td><td>Development         </td><td>0.5                 </td><td> TRUE               </td></tr>\n",
       "\t<tr><th scope=row>39089539</th><td>  0.1566526         </td><td>all                 </td><td>TraesCS1A01G000200LC</td><td>209                 </td><td>Development         </td><td>0.5                 </td><td>FALSE               </td></tr>\n",
       "\t<tr><th scope=row>39089540</th><td>  9.9338998         </td><td>all                 </td><td>TraesCS1A01G000300  </td><td>209                 </td><td>Development         </td><td>0.5                 </td><td> TRUE               </td></tr>\n",
       "\t<tr><th scope=row>39089541</th><td>  1.2760139         </td><td>all                 </td><td>TraesCS1A01G000300LC</td><td>209                 </td><td>Development         </td><td>0.5                 </td><td> TRUE               </td></tr>\n",
       "</tbody>\n",
       "</table>\n"
      ],
      "text/latex": [
       "\\begin{tabular}{r|lllllll}\n",
       "  & value & factor & gene & samples & subset & min\\_mean\\_tpm & expressed\\\\\n",
       "\\hline\n",
       "\t39089536 &   9.7596096          & all                  & TraesCS1A01G000100   & 209                  & Development          & 0.5                  &  TRUE               \\\\\n",
       "\t39089537 & 726.5982970          & all                  & TraesCS1A01G000100LC & 209                  & Development          & 0.5                  &  TRUE               \\\\\n",
       "\t39089538 &  93.3424544          & all                  & TraesCS1A01G000200   & 209                  & Development          & 0.5                  &  TRUE               \\\\\n",
       "\t39089539 &   0.1566526          & all                  & TraesCS1A01G000200LC & 209                  & Development          & 0.5                  & FALSE               \\\\\n",
       "\t39089540 &   9.9338998          & all                  & TraesCS1A01G000300   & 209                  & Development          & 0.5                  &  TRUE               \\\\\n",
       "\t39089541 &   1.2760139          & all                  & TraesCS1A01G000300LC & 209                  & Development          & 0.5                  &  TRUE               \\\\\n",
       "\\end{tabular}\n"
      ],
      "text/markdown": [
       "\n",
       "| <!--/--> | value | factor | gene | samples | subset | min_mean_tpm | expressed | \n",
       "|---|---|---|---|---|---|\n",
       "| 39089536 |   9.7596096          | all                  | TraesCS1A01G000100   | 209                  | Development          | 0.5                  |  TRUE                | \n",
       "| 39089537 | 726.5982970          | all                  | TraesCS1A01G000100LC | 209                  | Development          | 0.5                  |  TRUE                | \n",
       "| 39089538 |  93.3424544          | all                  | TraesCS1A01G000200   | 209                  | Development          | 0.5                  |  TRUE                | \n",
       "| 39089539 |   0.1566526          | all                  | TraesCS1A01G000200LC | 209                  | Development          | 0.5                  | FALSE                | \n",
       "| 39089540 |   9.9338998          | all                  | TraesCS1A01G000300   | 209                  | Development          | 0.5                  |  TRUE                | \n",
       "| 39089541 |   1.2760139          | all                  | TraesCS1A01G000300LC | 209                  | Development          | 0.5                  |  TRUE                | \n",
       "\n",
       "\n"
      ],
      "text/plain": [
       "         value       factor gene                 samples subset     \n",
       "39089536   9.7596096 all    TraesCS1A01G000100   209     Development\n",
       "39089537 726.5982970 all    TraesCS1A01G000100LC 209     Development\n",
       "39089538  93.3424544 all    TraesCS1A01G000200   209     Development\n",
       "39089539   0.1566526 all    TraesCS1A01G000200LC 209     Development\n",
       "39089540   9.9338998 all    TraesCS1A01G000300   209     Development\n",
       "39089541   1.2760139 all    TraesCS1A01G000300LC 209     Development\n",
       "         min_mean_tpm expressed\n",
       "39089536 0.5           TRUE    \n",
       "39089537 0.5           TRUE    \n",
       "39089538 0.5           TRUE    \n",
       "39089539 0.5          FALSE    \n",
       "39089540 0.5           TRUE    \n",
       "39089541 0.5           TRUE    "
      ]
     },
     "metadata": {},
     "output_type": "display_data"
    }
   ],
   "source": [
    "test<-geneInformation$meanTpms[geneInformation$meanTpms$subset==\"Development\",]\n",
    "head(test)\n",
    "#casted<-dcast(geneInformation$meanTpms, subset+value ~ factor, value.var=\"expressed\")\n",
    "#head(casted)"
   ]
  },
  {
   "cell_type": "code",
   "execution_count": 16,
   "metadata": {
    "collapsed": false
   },
   "outputs": [
    {
     "data": {
      "text/html": [
       "<table>\n",
       "<thead><tr><th scope=col>subset</th><th scope=col>gene</th><th scope=col>all</th><th scope=col>all_mean_filter</th><th scope=col>all_means</th><th scope=col>anther</th><th scope=col>awns</th><th scope=col>embryo</th><th scope=col>endosperm</th><th scope=col>flag leaf blade</th><th scope=col>⋯</th><th scope=col>leaf sheaths excl flag</th><th scope=col>peduncle</th><th scope=col>root apical meristem</th><th scope=col>roots</th><th scope=col>seedling aerial tissues</th><th scope=col>shoot apical meristem</th><th scope=col>shoot axis</th><th scope=col>spike</th><th scope=col>spikelets</th><th scope=col>stigma &amp; ovary</th></tr></thead>\n",
       "<tbody>\n",
       "\t<tr><td>Development         </td><td>TraesCS1A01G000100  </td><td> TRUE               </td><td>TRUE                </td><td> TRUE               </td><td> TRUE               </td><td> TRUE               </td><td> TRUE               </td><td> TRUE               </td><td> TRUE               </td><td>⋯                   </td><td> TRUE               </td><td> TRUE               </td><td> TRUE               </td><td> TRUE               </td><td> TRUE               </td><td> TRUE               </td><td> TRUE               </td><td> TRUE               </td><td> TRUE               </td><td> TRUE               </td></tr>\n",
       "\t<tr><td>Development         </td><td>TraesCS1A01G000100LC</td><td> TRUE               </td><td>TRUE                </td><td> TRUE               </td><td> TRUE               </td><td> TRUE               </td><td> TRUE               </td><td> TRUE               </td><td> TRUE               </td><td>⋯                   </td><td> TRUE               </td><td> TRUE               </td><td> TRUE               </td><td> TRUE               </td><td> TRUE               </td><td> TRUE               </td><td> TRUE               </td><td> TRUE               </td><td> TRUE               </td><td> TRUE               </td></tr>\n",
       "\t<tr><td>Development         </td><td>TraesCS1A01G000200  </td><td> TRUE               </td><td>TRUE                </td><td> TRUE               </td><td> TRUE               </td><td> TRUE               </td><td> TRUE               </td><td> TRUE               </td><td> TRUE               </td><td>⋯                   </td><td> TRUE               </td><td> TRUE               </td><td> TRUE               </td><td> TRUE               </td><td> TRUE               </td><td> TRUE               </td><td> TRUE               </td><td> TRUE               </td><td> TRUE               </td><td> TRUE               </td></tr>\n",
       "\t<tr><td>Development         </td><td>TraesCS1A01G000200LC</td><td>FALSE               </td><td>  NA                </td><td>FALSE               </td><td>FALSE               </td><td>FALSE               </td><td>FALSE               </td><td>FALSE               </td><td>FALSE               </td><td>⋯                   </td><td>FALSE               </td><td>FALSE               </td><td>FALSE               </td><td>FALSE               </td><td>FALSE               </td><td>FALSE               </td><td>FALSE               </td><td>FALSE               </td><td>FALSE               </td><td>FALSE               </td></tr>\n",
       "\t<tr><td>Development         </td><td>TraesCS1A01G000300  </td><td> TRUE               </td><td>TRUE                </td><td> TRUE               </td><td> TRUE               </td><td> TRUE               </td><td> TRUE               </td><td> TRUE               </td><td> TRUE               </td><td>⋯                   </td><td> TRUE               </td><td> TRUE               </td><td> TRUE               </td><td> TRUE               </td><td> TRUE               </td><td> TRUE               </td><td> TRUE               </td><td> TRUE               </td><td> TRUE               </td><td> TRUE               </td></tr>\n",
       "\t<tr><td>Development         </td><td>TraesCS1A01G000300LC</td><td> TRUE               </td><td>TRUE                </td><td> TRUE               </td><td>FALSE               </td><td>FALSE               </td><td> TRUE               </td><td> TRUE               </td><td>FALSE               </td><td>⋯                   </td><td>FALSE               </td><td>FALSE               </td><td>FALSE               </td><td>FALSE               </td><td>FALSE               </td><td>FALSE               </td><td>FALSE               </td><td>FALSE               </td><td>FALSE               </td><td> TRUE               </td></tr>\n",
       "</tbody>\n",
       "</table>\n"
      ],
      "text/latex": [
       "\\begin{tabular}{r|lllllllllllllllllllllllllll}\n",
       " subset & gene & all & all\\_mean\\_filter & all\\_means & anther & awns & embryo & endosperm & flag leaf blade & ⋯ & leaf sheaths excl flag & peduncle & root apical meristem & roots & seedling aerial tissues & shoot apical meristem & shoot axis & spike & spikelets & stigma \\& ovary\\\\\n",
       "\\hline\n",
       "\t Development          & TraesCS1A01G000100   &  TRUE                & TRUE                 &  TRUE                &  TRUE                &  TRUE                &  TRUE                &  TRUE                &  TRUE                & ⋯                    &  TRUE                &  TRUE                &  TRUE                &  TRUE                &  TRUE                &  TRUE                &  TRUE                &  TRUE                &  TRUE                &  TRUE               \\\\\n",
       "\t Development          & TraesCS1A01G000100LC &  TRUE                & TRUE                 &  TRUE                &  TRUE                &  TRUE                &  TRUE                &  TRUE                &  TRUE                & ⋯                    &  TRUE                &  TRUE                &  TRUE                &  TRUE                &  TRUE                &  TRUE                &  TRUE                &  TRUE                &  TRUE                &  TRUE               \\\\\n",
       "\t Development          & TraesCS1A01G000200   &  TRUE                & TRUE                 &  TRUE                &  TRUE                &  TRUE                &  TRUE                &  TRUE                &  TRUE                & ⋯                    &  TRUE                &  TRUE                &  TRUE                &  TRUE                &  TRUE                &  TRUE                &  TRUE                &  TRUE                &  TRUE                &  TRUE               \\\\\n",
       "\t Development          & TraesCS1A01G000200LC & FALSE                &   NA                 & FALSE                & FALSE                & FALSE                & FALSE                & FALSE                & FALSE                & ⋯                    & FALSE                & FALSE                & FALSE                & FALSE                & FALSE                & FALSE                & FALSE                & FALSE                & FALSE                & FALSE               \\\\\n",
       "\t Development          & TraesCS1A01G000300   &  TRUE                & TRUE                 &  TRUE                &  TRUE                &  TRUE                &  TRUE                &  TRUE                &  TRUE                & ⋯                    &  TRUE                &  TRUE                &  TRUE                &  TRUE                &  TRUE                &  TRUE                &  TRUE                &  TRUE                &  TRUE                &  TRUE               \\\\\n",
       "\t Development          & TraesCS1A01G000300LC &  TRUE                & TRUE                 &  TRUE                & FALSE                & FALSE                &  TRUE                &  TRUE                & FALSE                & ⋯                    & FALSE                & FALSE                & FALSE                & FALSE                & FALSE                & FALSE                & FALSE                & FALSE                & FALSE                &  TRUE               \\\\\n",
       "\\end{tabular}\n"
      ],
      "text/markdown": [
       "\n",
       "subset | gene | all | all_mean_filter | all_means | anther | awns | embryo | endosperm | flag leaf blade | ⋯ | leaf sheaths excl flag | peduncle | root apical meristem | roots | seedling aerial tissues | shoot apical meristem | shoot axis | spike | spikelets | stigma & ovary | \n",
       "|---|---|---|---|---|---|\n",
       "| Development          | TraesCS1A01G000100   |  TRUE                | TRUE                 |  TRUE                |  TRUE                |  TRUE                |  TRUE                |  TRUE                |  TRUE                | ⋯                    |  TRUE                |  TRUE                |  TRUE                |  TRUE                |  TRUE                |  TRUE                |  TRUE                |  TRUE                |  TRUE                |  TRUE                | \n",
       "| Development          | TraesCS1A01G000100LC |  TRUE                | TRUE                 |  TRUE                |  TRUE                |  TRUE                |  TRUE                |  TRUE                |  TRUE                | ⋯                    |  TRUE                |  TRUE                |  TRUE                |  TRUE                |  TRUE                |  TRUE                |  TRUE                |  TRUE                |  TRUE                |  TRUE                | \n",
       "| Development          | TraesCS1A01G000200   |  TRUE                | TRUE                 |  TRUE                |  TRUE                |  TRUE                |  TRUE                |  TRUE                |  TRUE                | ⋯                    |  TRUE                |  TRUE                |  TRUE                |  TRUE                |  TRUE                |  TRUE                |  TRUE                |  TRUE                |  TRUE                |  TRUE                | \n",
       "| Development          | TraesCS1A01G000200LC | FALSE                |   NA                 | FALSE                | FALSE                | FALSE                | FALSE                | FALSE                | FALSE                | ⋯                    | FALSE                | FALSE                | FALSE                | FALSE                | FALSE                | FALSE                | FALSE                | FALSE                | FALSE                | FALSE                | \n",
       "| Development          | TraesCS1A01G000300   |  TRUE                | TRUE                 |  TRUE                |  TRUE                |  TRUE                |  TRUE                |  TRUE                |  TRUE                | ⋯                    |  TRUE                |  TRUE                |  TRUE                |  TRUE                |  TRUE                |  TRUE                |  TRUE                |  TRUE                |  TRUE                |  TRUE                | \n",
       "| Development          | TraesCS1A01G000300LC |  TRUE                | TRUE                 |  TRUE                | FALSE                | FALSE                |  TRUE                |  TRUE                | FALSE                | ⋯                    | FALSE                | FALSE                | FALSE                | FALSE                | FALSE                | FALSE                | FALSE                | FALSE                | FALSE                |  TRUE                | \n",
       "\n",
       "\n"
      ],
      "text/plain": [
       "  subset      gene                 all   all_mean_filter all_means anther awns \n",
       "1 Development TraesCS1A01G000100    TRUE TRUE             TRUE      TRUE   TRUE\n",
       "2 Development TraesCS1A01G000100LC  TRUE TRUE             TRUE      TRUE   TRUE\n",
       "3 Development TraesCS1A01G000200    TRUE TRUE             TRUE      TRUE   TRUE\n",
       "4 Development TraesCS1A01G000200LC FALSE   NA            FALSE     FALSE  FALSE\n",
       "5 Development TraesCS1A01G000300    TRUE TRUE             TRUE      TRUE   TRUE\n",
       "6 Development TraesCS1A01G000300LC  TRUE TRUE             TRUE     FALSE  FALSE\n",
       "  embryo endosperm flag leaf blade ⋯ leaf sheaths excl flag peduncle\n",
       "1  TRUE   TRUE      TRUE           ⋯  TRUE                   TRUE   \n",
       "2  TRUE   TRUE      TRUE           ⋯  TRUE                   TRUE   \n",
       "3  TRUE   TRUE      TRUE           ⋯  TRUE                   TRUE   \n",
       "4 FALSE  FALSE     FALSE           ⋯ FALSE                  FALSE   \n",
       "5  TRUE   TRUE      TRUE           ⋯  TRUE                   TRUE   \n",
       "6  TRUE   TRUE     FALSE           ⋯ FALSE                  FALSE   \n",
       "  root apical meristem roots seedling aerial tissues shoot apical meristem\n",
       "1  TRUE                 TRUE  TRUE                    TRUE                \n",
       "2  TRUE                 TRUE  TRUE                    TRUE                \n",
       "3  TRUE                 TRUE  TRUE                    TRUE                \n",
       "4 FALSE                FALSE FALSE                   FALSE                \n",
       "5  TRUE                 TRUE  TRUE                    TRUE                \n",
       "6 FALSE                FALSE FALSE                   FALSE                \n",
       "  shoot axis spike spikelets stigma & ovary\n",
       "1  TRUE       TRUE  TRUE      TRUE         \n",
       "2  TRUE       TRUE  TRUE      TRUE         \n",
       "3  TRUE       TRUE  TRUE      TRUE         \n",
       "4 FALSE      FALSE FALSE     FALSE         \n",
       "5  TRUE       TRUE  TRUE      TRUE         \n",
       "6 FALSE      FALSE FALSE      TRUE         "
      ]
     },
     "metadata": {},
     "output_type": "display_data"
    }
   ],
   "source": [
    "casted<-dcast(test, subset+gene ~ factor, value.var=\"expressed\")\n",
    "head(casted)"
   ]
  },
  {
   "cell_type": "code",
   "execution_count": null,
   "metadata": {
    "collapsed": true
   },
   "outputs": [],
   "source": []
  }
 ],
 "metadata": {
  "kernelspec": {
   "display_name": "R",
   "language": "R",
   "name": "ir"
  },
  "language_info": {
   "codemirror_mode": "r",
   "file_extension": ".r",
   "mimetype": "text/x-r-source",
   "name": "R",
   "pygments_lexer": "r",
   "version": "3.3.2"
  }
 },
 "nbformat": 4,
 "nbformat_minor": 2
}
